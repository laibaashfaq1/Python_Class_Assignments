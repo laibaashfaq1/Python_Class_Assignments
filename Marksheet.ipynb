{
  "nbformat": 4,
  "nbformat_minor": 0,
  "metadata": {
    "colab": {
      "provenance": [],
      "authorship_tag": "ABX9TyOl93K19qYricP8G4f1bh/h",
      "include_colab_link": true
    },
    "kernelspec": {
      "name": "python3",
      "display_name": "Python 3"
    },
    "language_info": {
      "name": "python"
    }
  },
  "cells": [
    {
      "cell_type": "markdown",
      "metadata": {
        "id": "view-in-github",
        "colab_type": "text"
      },
      "source": [
        "<a href=\"https://colab.research.google.com/github/laibaashfaq1/Python_Class_Assignments/blob/main/Marksheet.ipynb\" target=\"_parent\"><img src=\"https://colab.research.google.com/assets/colab-badge.svg\" alt=\"Open In Colab\"/></a>"
      ]
    },
    {
      "cell_type": "markdown",
      "source": [
        "# **Marksheet Using Python**"
      ],
      "metadata": {
        "id": "dYckXy45Ojs_"
      }
    },
    {
      "cell_type": "code",
      "execution_count": 14,
      "metadata": {
        "colab": {
          "base_uri": "https://localhost:8080/"
        },
        "id": "GjoTyj8xLS5U",
        "outputId": "2c2bec01-5522-4a44-b737-e159ba5312ee"
      },
      "outputs": [
        {
          "output_type": "stream",
          "name": "stdout",
          "text": [
            "Enter Student Name: Ahmed\n",
            "Enter marks for English: 60\n",
            "Enter marks for Urdu: 70\n",
            "Enter marks for Mathematics: 78\n",
            "Enter marks for Islamiat: 82\n",
            "Enter marks for Science: 55\n",
            "\n",
            "📄 Student Marksheet 📄\n",
            "Name        : Ahmed\n",
            "Total Marks : 345/500\n",
            "Percentage  : 69.00%\n",
            "Grade       : C\n",
            "Remark      : Good\n",
            "Result      : Pass\n"
          ]
        }
      ],
      "source": [
        "# Function to calculate total marks, percentage, and grade\n",
        "def Marksheet(name, english, urdu, math, islamiat, science):\n",
        "    total_marks = english + urdu + math + islamiat + science\n",
        "    percentage = (total_marks / 500) * 100  # Assuming each subject is out of 100\n",
        "\n",
        "    # Assigning Grades, Remarks, and Result\n",
        "    if percentage >= 90:\n",
        "        grade = \"A+\"\n",
        "        remark = \"Outstanding\"\n",
        "        result = \"Pass\"\n",
        "    elif percentage >= 80:\n",
        "        grade = \"A\"\n",
        "        remark = \"Excellent\"\n",
        "        result = \"Pass\"\n",
        "    elif percentage >= 70:\n",
        "        grade = \"B\"\n",
        "        remark = \"Very Good\"\n",
        "        result = \"Pass\"\n",
        "    elif percentage >= 60:\n",
        "        grade = \"C\"\n",
        "        remark = \"Good\"\n",
        "        result = \"Pass\"\n",
        "    elif percentage >= 50:\n",
        "        grade = \"D\"\n",
        "        remark = \"Satisfactory\"\n",
        "        result = \"Pass\"\n",
        "    elif percentage >= 40:\n",
        "        grade = \"E\"\n",
        "        remark = \"Needs Improvement\"\n",
        "        result = \"Pass\"\n",
        "    else:\n",
        "        grade = \"F\"\n",
        "        remark = \"Failed - Work Harder\"\n",
        "        result = \"Fail\"\n",
        "\n",
        "    # Displaying Marksheet\n",
        "    print(\"\\n📄 Student Marksheet 📄\")\n",
        "    print(f\"Name        : {name}\")\n",
        "    print(f\"Total Marks : {total_marks}/500\")\n",
        "    print(f\"Percentage  : {percentage:.2f}%\")\n",
        "    print(f\"Grade       : {grade}\")\n",
        "    print(f\"Remark      : {remark}\")\n",
        "    print(f\"Result      : {result}\")\n",
        "\n",
        "# Taking user input with better prompts\n",
        "name = input(\"Enter Student Name: \")\n",
        "english = int(input(\"Enter marks for English: \"))\n",
        "urdu = int(input(\"Enter marks for Urdu: \"))\n",
        "math = int(input(\"Enter marks for Mathematics: \"))\n",
        "islamiat = int(input(\"Enter marks for Islamiat: \"))\n",
        "science = int(input(\"Enter marks for Science: \"))\n",
        "\n",
        "# Calling the function\n",
        "Marksheet(name, english, urdu, math, islamiat, science)\n"
      ]
    },
    {
      "cell_type": "code",
      "source": [],
      "metadata": {
        "id": "ydInNVs8TRmo"
      },
      "execution_count": null,
      "outputs": []
    }
  ]
}