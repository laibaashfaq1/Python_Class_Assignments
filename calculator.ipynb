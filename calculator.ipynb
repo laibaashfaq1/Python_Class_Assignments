{
  "nbformat": 4,
  "nbformat_minor": 0,
  "metadata": {
    "colab": {
      "provenance": [],
      "authorship_tag": "ABX9TyOBc7t6xZ0xYsqPpRk/eH8M",
      "include_colab_link": true
    },
    "kernelspec": {
      "name": "python3",
      "display_name": "Python 3"
    },
    "language_info": {
      "name": "python"
    }
  },
  "cells": [
    {
      "cell_type": "markdown",
      "metadata": {
        "id": "view-in-github",
        "colab_type": "text"
      },
      "source": [
        "<a href=\"https://colab.research.google.com/github/laibaashfaq1/Python_Class_Assignments/blob/main/calculator.ipynb\" target=\"_parent\"><img src=\"https://colab.research.google.com/assets/colab-badge.svg\" alt=\"Open In Colab\"/></a>"
      ]
    },
    {
      "cell_type": "code",
      "execution_count": null,
      "metadata": {
        "id": "RpZSnUbpjiTO"
      },
      "outputs": [],
      "source": []
    },
    {
      "cell_type": "markdown",
      "source": [
        "**Creating Calculator Using Python**"
      ],
      "metadata": {
        "id": "T8hcdQh4j6Su"
      }
    },
    {
      "cell_type": "code",
      "source": [
        "# First Method Of Creating Calculator\n",
        "# In this we add number by our won\n",
        "                           # + , - ,  / , * , // , **\n",
        "def Calcu(firstNum,secondNum,operation):\n",
        "  if operation == \"+\":\n",
        "    print(firstNum + secondNum)\n",
        "  elif operation == \"-\":\n",
        "    print(firstNum - secondNum)\n",
        "  elif operation == \"*\":\n",
        "    print(firstNum * secondNum)\n",
        "  elif operation == \"/\":\n",
        "    print (firstNum / secondNum)\n",
        "\n",
        "#  adding number by your own\n",
        "Calcu(5,5,\"+\")\n",
        "Calcu(6,6,\"/\")\n"
      ],
      "metadata": {
        "colab": {
          "base_uri": "https://localhost:8080/"
        },
        "id": "hngCnvzPkYzW",
        "outputId": "c025f3d4-2db6-4f47-8588-b7fa08c155d4"
      },
      "execution_count": null,
      "outputs": [
        {
          "output_type": "stream",
          "name": "stdout",
          "text": [
            "10\n",
            "1.0\n"
          ]
        }
      ]
    },
    {
      "cell_type": "code",
      "source": [
        "# Second Method of Calculator\n",
        "# In which we take number from users\n",
        "\n",
        "fisrt_num = int(input(\"Enter First Number\"))\n",
        "second_num = int(input(\"Enter Second Number\"))\n",
        "operation = input(\"Enter an operator\")\n",
        "Calcu(fisrt_num,second_num,operation)\n"
      ],
      "metadata": {
        "colab": {
          "base_uri": "https://localhost:8080/"
        },
        "id": "d4h20LGWldaX",
        "outputId": "bfc155b0-e3c4-40ae-cc23-d187ec8d1248"
      },
      "execution_count": null,
      "outputs": [
        {
          "output_type": "stream",
          "name": "stdout",
          "text": [
            "Enter First Number3\n",
            "Enter Second Number4\n",
            "Enter an operator/\n",
            "0.75\n"
          ]
        }
      ]
    },
    {
      "cell_type": "code",
      "source": [],
      "metadata": {
        "id": "Dd0H7jC8rr1H"
      },
      "execution_count": null,
      "outputs": []
    }
  ]
}